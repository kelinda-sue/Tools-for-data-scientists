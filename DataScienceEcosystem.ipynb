{
 "cells": [
  {
   "cell_type": "markdown",
   "id": "d6163d55-367a-492e-a681-e41eadb195c5",
   "metadata": {},
   "source": [
    "# Data Science Tools and Ecosystem\n"
   ]
  },
  {
   "cell_type": "markdown",
   "id": "581ff1b8-3f66-405b-9a8c-8376fa4737ac",
   "metadata": {},
   "source": [
    "In this notebook, we will summarize data science tools and ecosystem. "
   ]
  },
  {
   "cell_type": "markdown",
   "id": "55bf8433-7e38-45b8-9f4a-80835bf4045f",
   "metadata": {},
   "source": [
    "Objectives\n",
    "- List popular languages used\n",
    "- List commonly used libraries\n",
    "- List open-source platforms\n",
    "- Show a few examples of simple Python code"
   ]
  },
  {
   "cell_type": "markdown",
   "id": "ba0e577c-b512-4d43-a92b-96ab5834706f",
   "metadata": {},
   "source": [
    "Some of the popular languages that data scientists use include:\n",
    "1. Python\n",
    "2. R\n",
    "3. JavaScript\n",
    "4. SQL"
   ]
  },
  {
   "cell_type": "markdown",
   "id": "807f80fa-9df5-4b78-bc22-7a3f2cb8897f",
   "metadata": {},
   "source": [
    "Some of the libraries most commonly used by data scientists include:\n",
    "1. Pandas\n",
    "2. NumPy\n",
    "3. Plotly\n",
    "4. TensorFlow"
   ]
  },
  {
   "cell_type": "markdown",
   "id": "bb476cba-84c6-4086-a0e5-fcef8bba9b3a",
   "metadata": {},
   "source": [
    "| Data Science Tools|\n",
    "|-------------------|\n",
    "| Jupyter Notebook |\n",
    "| RStudio |\n",
    "| GitHub |"
   ]
  },
  {
   "cell_type": "markdown",
   "id": "486384b6-c75e-4799-806b-320ac59cb860",
   "metadata": {},
   "source": [
    "### Below are a few examples showing the evaluation of arithmetic expressions using Python.\n"
   ]
  },
  {
   "cell_type": "markdown",
   "id": "fde84737-df7c-419c-89f7-fe9de59cd6ef",
   "metadata": {},
   "source": [
    "Here is a simple arithmetic expression to multiply and then add integers.\n"
   ]
  },
  {
   "cell_type": "code",
   "execution_count": 2,
   "id": "503973e5-1b84-4c22-8147-e75c14a2b203",
   "metadata": {},
   "outputs": [
    {
     "name": "stdout",
     "output_type": "stream",
     "text": [
      "17\n"
     ]
    }
   ],
   "source": [
    "x = (3*4) + 5\n",
    "print(x)\n"
   ]
  },
  {
   "cell_type": "markdown",
   "id": "ce484843-909c-4eb3-a440-c21c3abeca29",
   "metadata": {},
   "source": [
    "Here is a simple expression to convert 200 minutes to hours using the relationship 1 hr/60 minutes. \n"
   ]
  },
  {
   "cell_type": "code",
   "execution_count": 4,
   "id": "cb7663b0-da58-4cd5-9181-ad7b139764de",
   "metadata": {},
   "outputs": [
    {
     "name": "stdout",
     "output_type": "stream",
     "text": [
      "3.3333333333333335\n"
     ]
    }
   ],
   "source": [
    "minutes = 200\n",
    "hours = minutes/60\n",
    "print (hours)"
   ]
  },
  {
   "cell_type": "markdown",
   "id": "c1986c1d-45a6-462f-96cc-4f4e5a2dddbb",
   "metadata": {},
   "source": [
    "## Author\n",
    "Keli Rutan-Jorgensen"
   ]
  },
  {
   "cell_type": "code",
   "execution_count": null,
   "id": "e21e8407-576b-4c60-83ce-9eff3599a54c",
   "metadata": {},
   "outputs": [],
   "source": []
  }
 ],
 "metadata": {
  "kernelspec": {
   "display_name": "Python 3 (ipykernel)",
   "language": "python",
   "name": "python3"
  },
  "language_info": {
   "codemirror_mode": {
    "name": "ipython",
    "version": 3
   },
   "file_extension": ".py",
   "mimetype": "text/x-python",
   "name": "python",
   "nbconvert_exporter": "python",
   "pygments_lexer": "ipython3",
   "version": "3.12.6"
  }
 },
 "nbformat": 4,
 "nbformat_minor": 5
}
